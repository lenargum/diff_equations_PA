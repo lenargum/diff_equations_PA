{
 "cells": [
  {
   "cell_type": "markdown",
   "metadata": {},
   "source": [
    "# Assignment"
   ]
  },
  {
   "cell_type": "markdown",
   "metadata": {},
   "source": [
    "### November 4, 2018  \n",
    "  \n",
    "### 1. Assignment"
   ]
  },
  {
   "cell_type": "markdown",
   "metadata": {},
   "source": [
    "Analytical solution : $y=\\frac{(x^2-4)}{2x}$  \n",
    "Steps :  \n",
    "$y′ = 2xy + 5 - x^2$ − first order linear ordinary differential equation  \n",
    "1. Solve complementary equation $y′ - 2xy = 0$:  \n",
    "$y_1 = e^2x$  \n",
    "2. Make substitution:  \n",
    "$y = uy_1$  \n",
    "$y′= u′e^{x^2} + 2xue^{x^2} $  \n",
    "3. Solve equation and find general solution:  \n",
    "$ u′e^{x^2} = 5 - x^2 $  \n",
    "$u = \\frac{{x^2}e^{-x^2} - 4e^{-x^2}}{2x} + c_1$  \n",
    "$y = \\frac{x^2 - 4}{2x} + c_1*e^{x^2}$  "
   ]
  },
  {
   "cell_type": "markdown",
   "metadata": {},
   "source": [
    "#### 1.1 IVP  \n",
    "$c_1 = \\frac{y_0*2x_0-x_0^2 - 4}{2x_0e^{x_0^2}}$  \n",
    "$y = \\frac{x^2 - 4}{2x} + c_1*e^{x^2} = \\frac{x^2 - 4}{2x} + \\frac{y_0*2x_0-x_0^2 - 4}{2x_0e^{x_0^2}}*e^{x^2}$"
   ]
  },
  {
   "cell_type": "markdown",
   "metadata": {},
   "source": [
    "#### 1.2 Functions  \n",
    "$y′ = f(x, y) = 2yx + 5 - x^2$  \n"
   ]
  },
  {
   "cell_type": "code",
   "execution_count": 1,
   "metadata": {},
   "outputs": [],
   "source": [
    "def f(x, y):\n",
    "    return 2 * y * x + 5 - x * x"
   ]
  },
  {
   "cell_type": "markdown",
   "metadata": {},
   "source": [
    "$y = \\frac{x^2 - 4}{2x} + c_1*e^{x^2} = \\frac{x^2 - 4}{2x} + \\frac{y_0*2x_0-x_0^2 - 4}{2x_0e^{x_0^2}}*e^{x^2}$"
   ]
  },
  {
   "cell_type": "code",
   "execution_count": null,
   "metadata": {},
   "outputs": [],
   "source": [
    "def y_ivp(x, x0, y0):\n",
    "    c1 = (y0 - (((x0 ** 2) - 4) / (2 * x0))) / (np.exp(x0 ** 2))\n",
    "    return (((x ** 2) - 4) / (2 * x)) + c1 * np.exp(x ** 2)"
   ]
  },
  {
   "cell_type": "markdown",
   "metadata": {},
   "source": [
    "#### 1.3 Analytical method  \n",
    "The analytical solution and plot of the equation: $y = \\frac{x^2 - 4}{2x} + c_1*e^{x^2} $"
   ]
  },
  {
   "cell_type": "code",
   "execution_count": null,
   "metadata": {},
   "outputs": [],
   "source": [
    "def exact(y0, x0, xn, step):\n",
    "    x_arr = np.arange(x0, xn + step, step)\n",
    "    y = []\n",
    "    for x in x_arr:\n",
    "        y.append(y_ivp(x, x0, y0))\n",
    "    return x_arr, y\n",
    "\n",
    "\n",
    "def y_ivp_plot(y0, x0, xn, step):\n",
    "    plt.figure(figsize=(8, 8))\n",
    "    if x0 < 0 < xn:\n",
    "        x_arr, y = exact(y0, x0, -step, step)\n",
    "\n",
    "        plt.plot(x_arr, y, c='b', label='Exact')\n",
    "\n",
    "        x_arr, y = exact(y0, step, xn, step)\n",
    "        plt.plot(x_arr, y, c='b')\n",
    "    elif x0 < 0 == xn:\n",
    "        x_arr, y = exact(y0, x0, -step, step)\n",
    "        plt.plot(x_arr, y, c='b', label='Exact')\n",
    "    else:\n",
    "        x_arr, y = exact(y0, x0, xn, step)\n",
    "        plt.plot(x_arr, y, c='b', label='Exact')"
   ]
  },
  {
   "cell_type": "markdown",
   "metadata": {},
   "source": [
    "#### 1.4 Euler method  \n",
    "$y_{i+1}= y_i + hf(x_i, y_i)$"
   ]
  },
  {
   "cell_type": "code",
   "execution_count": null,
   "metadata": {},
   "outputs": [],
   "source": [
    "def euler_method(y0, x0, xn, step):\n",
    "    y = [y0]\n",
    "    x_arr = np.arange(x0, xn + step, step)\n",
    "    error = []\n",
    "    for x in x_arr:\n",
    "        y_n = y[-1] + step * f(x, y[-1])\n",
    "        error.append(y_ivp(x, x0, y0) - y[-1])\n",
    "        y.append(y_n)\n",
    "    return x_arr, y, error\n",
    "\n",
    "\n",
    "def euler_method_plot(y0, x0, xn, step):\n",
    "    y_ivp_plot(y0, x0, xn, step)\n",
    "    if x0 < 0 < xn:\n",
    "        x_arr, y, error = euler_method(y0, x0, -step, step)\n",
    "        plt.plot(x_arr, y[:len(x_arr)], c='m', label='Euler method')\n",
    "        plt.plot(x_arr, error, 'r', label=\"Error\")\n",
    "\n",
    "        x_arr, y, error = euler_method(y0, step, xn, step)\n",
    "        plt.plot(x_arr, y[:len(x_arr)], c='m')\n",
    "        plt.plot(x_arr, error, 'r')\n",
    "    elif x0 < 0 == xn:\n",
    "        x_arr, y, error = euler_method(y0, x0, -step, step)\n",
    "        plt.plot(x_arr, y[:len(x_arr)], c='m', label='Euler method')\n",
    "        plt.plot(x_arr, error, 'r', label=\"Error\")\n",
    "    else:\n",
    "        x_arr, y, error = euler_method(y0, x0, xn, step)\n",
    "        plt.plot(x_arr, y[:len(x_arr)], c='m', label='Euler method')\n",
    "        plt.plot(x_arr, error, 'r', label=\"Error\")"
   ]
  },
  {
   "cell_type": "markdown",
   "metadata": {},
   "source": [
    "#### 1.5 Improved Euler  \n",
    "$k_{1i} = f(x_i, y_i),$  \n",
    "$k_{2i} = f(x_i + h, y_i + hk_{1i}),$  \n",
    "$y_{i+1} = y_i + \\frac{h}{2}(k_{1i} + k_{2i})$  "
   ]
  },
  {
   "cell_type": "code",
   "execution_count": 2,
   "metadata": {},
   "outputs": [],
   "source": [
    "def imp_euler(y0, x0, xn, step):\n",
    "    y = [y0]\n",
    "    x_arr = np.arange(x0, xn + step, step)\n",
    "    error = []\n",
    "    for x in x_arr:\n",
    "        k1 = f(x, y[-1])\n",
    "        k2 = f(x + step, y[-1] + step * k1)\n",
    "        y_n = y[-1] + step * (k1 + k2) / 2\n",
    "        error.append(y_ivp(x, x0, y0) - y[-1])\n",
    "        y.append(y_n)\n",
    "    return x_arr, y, error\n",
    "\n",
    "\n",
    "def imp_euler_plot(y0, x0, xn, step):\n",
    "    y_ivp_plot(y0, x0, xn, step)\n",
    "    if x0 < 0 < xn:\n",
    "        x_arr, y, error = imp_euler(y0, x0, -step, step)\n",
    "        plt.plot(x_arr, y[:len(x_arr)], c='g', label='Improved Euler method')\n",
    "        plt.plot(x_arr, error, 'r', label=\"Error\")\n",
    "\n",
    "        x_arr, y, error = imp_euler(y0, step, xn, step)\n",
    "        plt.plot(x_arr, y[:len(x_arr)], c='g')\n",
    "        plt.plot(x_arr, error, 'r')\n",
    "    elif x0 < 0 == xn:\n",
    "        x_arr, y, error = imp_euler(y0, x0, -step, step)\n",
    "        plt.plot(x_arr, y[:len(x_arr)], c='g', label='Improved Euler method')\n",
    "        plt.plot(x_arr, error, 'r', label=\"Error\")\n",
    "    else:\n",
    "        x_arr, y, error = imp_euler(y0, x0, xn, step)\n",
    "        plt.plot(x_arr, y[:len(x_arr)], c='g', label='Improved Euler method')\n",
    "        plt.plot(x_arr, error, 'r', label=\"Error\")"
   ]
  },
  {
   "cell_type": "markdown",
   "metadata": {},
   "source": [
    "#### 1.6 Runge Kutta method  \n",
    "$k_{1i} = f(x_i, y_i)$  \n",
    "$k_{2i} = f(x_i + \\frac{h}{2}, y_i + \\frac{h}{2}k_{1i})$  \n",
    "$k_{3i} = f(x_i + \\frac{h}{2}, y_i + \\frac{h}{2}k_{2i})$  \n",
    "$k_{4i} = f(x_i + h, y_i + hk_{3i})$  \n",
    "$y_{i+1} = yi + \\frac{h}{6}(k_1i + 2k_2i + 2k_3i + k_4i)$  "
   ]
  },
  {
   "cell_type": "code",
   "execution_count": 3,
   "metadata": {},
   "outputs": [],
   "source": [
    "def runge_kutta(y0, x0, xn, step):\n",
    "    y = [y0]\n",
    "    x_arr = np.arange(x0, xn + step, step)\n",
    "    error = []\n",
    "    for x in x_arr:\n",
    "        k1 = f(x, y[-1])\n",
    "        k2 = f(x + step / 2, y[-1] + step * k1 / 2)\n",
    "        k3 = f(x + step / 2, y[-1] + step * k2 / 2)\n",
    "        k4 = f(x + step, y[-1] + step * k3)\n",
    "        y_n = y[-1] + step * (k1 + 2 * k2 + 2 * k3 + k4) / 6\n",
    "        error.append(y_ivp(x, x0, y0) - y[-1])\n",
    "        y.append(y_n)\n",
    "    return x_arr, y, error\n",
    "\n",
    "\n",
    "def runge_kutta_plot(y0, x0, xn, step):\n",
    "    y_ivp_plot(y0, x0, xn, step)\n",
    "\n",
    "    if x0 < 0 < xn:\n",
    "        x_arr, y, error = runge_kutta(y0, x0, -step, step)\n",
    "        plt.plot(x_arr, y[:len(x_arr)], c='y', label='Runge_Kutta method')\n",
    "        plt.plot(x_arr, error, 'r', label=\"Error\")\n",
    "\n",
    "        x_arr, y, error = runge_kutta(y0, step, xn, step)\n",
    "        plt.plot(x_arr, y[:len(x_arr)], c='y')\n",
    "        plt.plot(x_arr, error, 'r')\n",
    "    elif x0 < 0 == xn:\n",
    "        x_arr, y, error = runge_kutta(y0, x0, -step, step)\n",
    "        plt.plot(x_arr, y[:len(x_arr)], c='y', label='Runge_Kutta method')\n",
    "        plt.plot(x_arr, error, 'r', label=\"Error\")\n",
    "    else:\n",
    "        x_arr, y, error = runge_kutta(y0, x0, xn, step)\n",
    "        plt.plot(x_arr, y[:len(x_arr)], c='y', label='Runge_Kutta method')\n",
    "        plt.plot(x_arr, error, 'r', label=\"Error\")"
   ]
  },
  {
   "cell_type": "markdown",
   "metadata": {},
   "source": [
    "#### 1.7 Plots of all graphs"
   ]
  },
  {
   "cell_type": "code",
   "execution_count": null,
   "metadata": {},
   "outputs": [],
   "source": [
    "def all_methods_plot(y0, x0, xn, step):\n",
    "    y_ivp_plot(y0, x0, xn, step)\n",
    "\n",
    "    if x0 < 0 < xn:\n",
    "        eu_x, eu_y, eu_error = euler_method(y0, x0, -step, step)\n",
    "        imp_x, imp_y, imp_error = imp_euler(y0, x0, -step, step)\n",
    "        rk_x, rk_y, rk_error = runge_kutta(y0, x0, -step, step)\n",
    "\n",
    "        plt.plot(eu_x, eu_y[:len(eu_x)], c='m', label='Euler')\n",
    "        plt.plot(imp_x, imp_y[:len(imp_x)], c='g', label='Improved Euler')\n",
    "        plt.plot(rk_x, rk_y[:len(rk_x)], c='y', label='Runge-Kutta')\n",
    "\n",
    "        eu_x, eu_y, eu_error = euler_method(y0, step, xn, step)\n",
    "        imp_x, imp_y, imp_error = imp_euler(y0, step, xn, step)\n",
    "        rk_x, rk_y, rk_error = runge_kutta(y0, step, xn, step)\n",
    "\n",
    "        plt.plot(eu_x, eu_y[:len(eu_x)], c='m')\n",
    "        plt.plot(imp_x, imp_y[:len(imp_x)], c='g')\n",
    "        plt.plot(rk_x, rk_y[:len(rk_x)], c='y')\n",
    "    elif x0 < 0 == xn:\n",
    "        eu_x, eu_y, eu_error = euler_method(y0, x0, -step, step)\n",
    "        imp_x, imp_y, imp_error = imp_euler(y0, x0, -step, step)\n",
    "        rk_x, rk_y, rk_error = runge_kutta(y0, x0, -step, step)\n",
    "\n",
    "        plt.plot(eu_x, eu_y[:len(eu_x)], c='m', label='Euler')\n",
    "        plt.plot(imp_x, imp_y[:len(imp_x)], c='g', label='Improved Euler')\n",
    "        plt.plot(rk_x, rk_y[:len(rk_x)], c='y', label='Runge-Kutta')\n",
    "\n",
    "    else:\n",
    "        eu_x, eu_y, eu_error = euler_method(y0, x0, xn, step)\n",
    "        imp_x, imp_y, imp_error = imp_euler(y0, x0, xn, step)\n",
    "        rk_x, rk_y, rk_error = runge_kutta(y0, x0, xn, step)\n",
    "\n",
    "        plt.plot(eu_x, eu_y[:len(eu_x)], c='m', label='Euler')\n",
    "        plt.plot(imp_x, imp_y[:len(imp_x)], c='g', label='Improved Euler')\n",
    "        plt.plot(rk_x, rk_y[:len(rk_x)], c='y', label='Runge-Kutta')"
   ]
  },
  {
   "cell_type": "code",
   "execution_count": null,
   "metadata": {},
   "outputs": [],
   "source": [
    "def all_local_errors(y0, x0, xn, step):\n",
    "    plt.figure(figsize=(8, 8))\n",
    "\n",
    "    if x0 < 0 < xn:\n",
    "        eu_x, eu_y, eu_error = euler_method(y0, x0, -step, step)\n",
    "        imp_x, imp_y, imp_error = imp_euler(y0, x0, -step, step)\n",
    "        rk_x, rk_y, rk_error = runge_kutta(y0, x0, -step, step)\n",
    "\n",
    "        plt.plot(eu_x, eu_error, '--', c='m', label='Euler method error')\n",
    "        plt.plot(imp_x, imp_error, '--', c='g', label='Improoved Euler method error')\n",
    "        plt.plot(rk_x, rk_error, '--', c='y', label='Runge-Kutta method error')\n",
    "\n",
    "        eu_x, eu_y, eu_error = euler_method(y0, step, xn, step)\n",
    "        imp_x, imp_y, imp_error = imp_euler(y0, step, xn, step)\n",
    "        rk_x, rk_y, rk_error = runge_kutta(y0, step, xn, step)\n",
    "\n",
    "        plt.plot(eu_x, eu_error, '--', c='m')\n",
    "        plt.plot(imp_x, imp_error, '--', c='g')\n",
    "        plt.plot(rk_x, rk_error, '--', c='y')\n",
    "    elif x0 < 0 == xn:\n",
    "        eu_x, eu_y, eu_error = euler_method(y0, x0, -step, step)\n",
    "        imp_x, imp_y, imp_error = imp_euler(y0, x0, -step, step)\n",
    "        rk_x, rk_y, rk_error = runge_kutta(y0, x0, -step, step)\n",
    "\n",
    "        plt.plot(eu_x, eu_error, '--', c='m', label='Euler method error')\n",
    "        plt.plot(imp_x, imp_error, '--', c='g', label='Improoved Euler method error')\n",
    "        plt.plot(rk_x, rk_error, '--', c='y', label='Runge-Kutta method error')\n",
    "    else:\n",
    "        eu_x, eu_y, eu_error = euler_method(y0, x0, xn, step)\n",
    "        imp_x, imp_y, imp_error = imp_euler(y0, x0, xn, step)\n",
    "        rk_x, rk_y, rk_error = runge_kutta(y0, x0, xn, step)\n",
    "\n",
    "        plt.plot(eu_x, eu_error, '--', c='m', label='Euler method error')\n",
    "        plt.plot(imp_x, imp_error, '--', c='g', label='Improoved Euler method error')\n",
    "        plt.plot(rk_x, rk_error, '--', c='y', label='Runge-Kutta method error')"
   ]
  },
  {
   "cell_type": "code",
   "execution_count": null,
   "metadata": {},
   "outputs": [],
   "source": [
    "def global_error(y0, x0, xn, step):\n",
    "    plt.figure(figsize=(8, 8))\n",
    "\n",
    "    n = np.arange(1, int((xn - x0) / step) + 1, 1)\n",
    "    eu_gl_e = []\n",
    "    imp_gl_e = []\n",
    "    rk_gl_e = []\n",
    "    for i in n:\n",
    "        x, y = exact(y0, x0, xn, (xn - x0) / i)\n",
    "        _, eu_y, _ = euler_method(y0, x0, xn, (xn - x0) / i)\n",
    "        _, imp_y, _ = imp_euler(y0, x0, xn, (xn - x0) / i)\n",
    "        _, rk_y, _ = runge_kutta(y0, x0, xn, (xn - x0) / i)\n",
    "        eu_gl_e.append((np.array(y) - np.array(eu_y[:len(y)])).sum())\n",
    "        imp_gl_e.append((np.array(y) - np.array(imp_y[:len(y)])).sum())\n",
    "        rk_gl_e.append((np.array(y) - np.array(rk_y[:len(y)])).sum())\n",
    "\n",
    "    plt.plot(n, eu_gl_e, '.-', c='m', label='Euler method')\n",
    "    plt.plot(n, imp_gl_e, '.-', c='g', label='Improved Euler method ')\n",
    "    plt.plot(n, rk_gl_e, '.-', c='y', label='Runge-Kutta method')"
   ]
  }
 ],
 "metadata": {
  "kernelspec": {
   "display_name": "Python 3",
   "language": "python",
   "name": "python3"
  },
  "language_info": {
   "codemirror_mode": {
    "name": "ipython",
    "version": 3
   },
   "file_extension": ".py",
   "mimetype": "text/x-python",
   "name": "python",
   "nbconvert_exporter": "python",
   "pygments_lexer": "ipython3",
   "version": "3.6.5"
  }
 },
 "nbformat": 4,
 "nbformat_minor": 2
}
